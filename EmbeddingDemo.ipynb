{
 "cells": [
  {
   "cell_type": "code",
   "execution_count": 1,
   "metadata": {},
   "outputs": [
    {
     "name": "stdout",
     "output_type": "stream",
     "text": [
      "data資料夾不存在~幫創\n",
      "未下載過~幫載\n"
     ]
    }
   ],
   "source": [
    "#urlopen + write\n",
    "from urllib.request import urlretrieve\n",
    "from os.path import exists\n",
    "from os import mkdir\n",
    "url = \"http://ai.stanford.edu/~amaas/data/sentiment/aclImdb_v1.tar.gz\"\n",
    "if not exists(\"./data\"):\n",
    "    print(\"data資料夾不存在~幫創\")\n",
    "    mkdir(\"./data\")\n",
    "    \n",
    "filepath = \"./data/aclImdb_v1.tar.gz\"\n",
    "if not exists(filepath):\n",
    "    print(\"未下載過~幫載\")\n",
    "    urlretrieve(url, filepath)\n",
    "else:\n",
    "    print(\"下載過\")"
   ]
  },
  {
   "cell_type": "code",
   "execution_count": null,
   "metadata": {},
   "outputs": [],
   "source": []
  }
 ],
 "metadata": {
  "kernelspec": {
   "display_name": "py36default",
   "language": "python",
   "name": "py36default"
  },
  "language_info": {
   "codemirror_mode": {
    "name": "ipython",
    "version": 3
   },
   "file_extension": ".py",
   "mimetype": "text/x-python",
   "name": "python",
   "nbconvert_exporter": "python",
   "pygments_lexer": "ipython3",
   "version": "3.6.0"
  }
 },
 "nbformat": 4,
 "nbformat_minor": 2
}
