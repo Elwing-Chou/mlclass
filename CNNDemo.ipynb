{
 "cells": [
  {
   "cell_type": "code",
   "execution_count": 1,
   "metadata": {},
   "outputs": [
    {
     "name": "stderr",
     "output_type": "stream",
     "text": [
      "Using TensorFlow backend.\n"
     ]
    }
   ],
   "source": [
    "from keras.datasets import cifar10\n",
    "import ssl\n",
    "ssl._create_default_https_context = ssl._create_unverified_context\n",
    "(x_train, y_train), (x_test, y_test) = cifar10.load_data()"
   ]
  },
  {
   "cell_type": "code",
   "execution_count": 2,
   "metadata": {},
   "outputs": [
    {
     "name": "stdout",
     "output_type": "stream",
     "text": [
      "訓練資料維度: (50000, 32, 32, 3)\n",
      "測試資料維度: (10000, 32, 32, 3)\n"
     ]
    }
   ],
   "source": [
    "print(\"訓練資料維度:\", x_train.shape)\n",
    "print(\"測試資料維度:\", x_test.shape)"
   ]
  },
  {
   "cell_type": "code",
   "execution_count": 3,
   "metadata": {},
   "outputs": [],
   "source": [
    "labels = {0:\"飛機\", 1:\"車\", 2:\"鳥\", 3:\"貓\",\n",
    "          4:\"鹿\", 5:\"狗\", 6:\"青蛙\", 7:\"馬\",\n",
    "          8:\"船\", 9:\"卡車\"}"
   ]
  },
  {
   "cell_type": "code",
   "execution_count": 4,
   "metadata": {},
   "outputs": [
    {
     "name": "stdout",
     "output_type": "stream",
     "text": [
      "第幾張圖片: 26664\n",
      "是什麼東西: 船\n"
     ]
    },
    {
     "data": {
      "text/plain": [
       "<matplotlib.image.AxesImage at 0x1240f8518>"
      ]
     },
     "execution_count": 4,
     "metadata": {},
     "output_type": "execute_result"
    },
    {
     "data": {
      "image/png": "[encoded data removed]",
      "text/plain": [
       "<matplotlib.figure.Figure at 0x123d37780>"
      ]
     },
     "metadata": {},
     "output_type": "display_data"
    }
   ],
   "source": [
    "import random\n",
    "import matplotlib.pyplot as plt\n",
    "%matplotlib inline\n",
    "i = random.randint(0, x_train.shape[0])\n",
    "print(\"第幾張圖片:\", i)\n",
    "# 以前[0, 1, 2, 1...] -> keras[ [0], [1], [2], [1] ]\n",
    "print(\"是什麼東西:\", labels[y_train[i][0]])\n",
    "plt.imshow(x_train[i])"
   ]
  },
  {
   "cell_type": "code",
   "execution_count": 5,
   "metadata": {},
   "outputs": [],
   "source": [
    "from keras.utils import np_utils\n",
    "x_train_normal = x_train.astype(float) / 255\n",
    "x_test_normal = x_test.astype(float) / 255\n",
    "y_train_cat = np_utils.to_categorical(y_train)\n",
    "y_test_cat = np_utils.to_categorical(y_test)"
   ]
  },
  {
   "cell_type": "code",
   "execution_count": 6,
   "metadata": {},
   "outputs": [
    {
     "name": "stdout",
     "output_type": "stream",
     "text": [
      "已經有存了, Load\n"
     ]
    }
   ],
   "source": [
    "from keras.models import Sequential\n",
    "from keras.layers import Conv2D, MaxPooling2D, Dropout, Flatten, Dense\n",
    "from os.path import exists\n",
    "from keras.models import load_model\n",
    "if exists(\"cnn0811.h5\"):\n",
    "    print(\"已經有存了, Load\")\n",
    "    model = load_model(\"cnn0811.h5\")\n",
    "else:\n",
    "    model = Sequential()\n",
    "    model.add(Conv2D(filters = 32,\n",
    "                     input_shape = (32, 32, 3),\n",
    "                     kernel_size = (3, 3),\n",
    "                     activation = 'relu',\n",
    "                     padding='same'))\n",
    "    model.add(MaxPooling2D(pool_size = (2, 2)))\n",
    "    model.add(Dropout(0.25))\n",
    "    model.add(Conv2D(filters = 64,\n",
    "                     kernel_size = (3, 3),\n",
    "                     activation = 'relu',\n",
    "                     padding='same'))\n",
    "    model.add(MaxPooling2D(pool_size = (2, 2)))\n",
    "    model.add(Flatten())\n",
    "    model.add(Dropout(0.25))\n",
    "    model.add(Dense(units = 256, activation = \"relu\"))\n",
    "    model.add(Dropout(0.25))\n",
    "    model.add(Dense(units = 10, activation = \"softmax\"))\n",
    "    model.summary()"
   ]
  },
  {
   "cell_type": "code",
   "execution_count": 7,
   "metadata": {},
   "outputs": [],
   "source": [
    "model.compile(loss=\"categorical_crossentropy\", optimizer=\"adam\", metrics=[\"accuracy\"])"
   ]
  },
  {
   "cell_type": "code",
   "execution_count": 8,
   "metadata": {},
   "outputs": [
    {
     "name": "stdout",
     "output_type": "stream",
     "text": [
      "Train on 45000 samples, validate on 5000 samples\n",
      "Epoch 1/1\n",
      " - 139s - loss: 0.7162 - acc: 0.7488 - val_loss: 0.7481 - val_acc: 0.7484\n"
     ]
    }
   ],
   "source": [
    "train_history = model.fit(x_train_normal, y_train_cat, batch_size=200, epochs=10, validation_split=0.1, verbose=2)"
   ]
  },
  {
   "cell_type": "code",
   "execution_count": 9,
   "metadata": {},
   "outputs": [
    {
     "data": {
      "text/plain": [
       "<matplotlib.legend.Legend at 0x1805c1b38>"
      ]
     },
     "execution_count": 9,
     "metadata": {},
     "output_type": "execute_result"
    },
    {
     "data": {
      "image/png": "[encoded data removed]",
      "text/plain": [
       "<matplotlib.figure.Figure at 0x1806162b0>"
      ]
     },
     "metadata": {},
     "output_type": "display_data"
    }
   ],
   "source": [
    "plt.plot(train_history.history['loss'])\n",
    "plt.plot(train_history.history['val_loss'])\n",
    "plt.legend(['loss', 'val_loss'], loc=\"upper right\")"
   ]
  },
  {
   "cell_type": "code",
   "execution_count": 10,
   "metadata": {},
   "outputs": [
    {
     "name": "stdout",
     "output_type": "stream",
     "text": [
      "10000/10000 [==============================] - 8s 765us/step\n"
     ]
    },
    {
     "data": {
      "text/plain": [
       "[0.7751667338371276, 0.7324]"
      ]
     },
     "execution_count": 10,
     "metadata": {},
     "output_type": "execute_result"
    }
   ],
   "source": [
    "model.evaluate(x_test_normal, y_test_cat)"
   ]
  },
  {
   "cell_type": "code",
   "execution_count": 11,
   "metadata": {},
   "outputs": [],
   "source": [
    "model.save(\"cnn0811.h5\")"
   ]
  }
 ],
 "metadata": {
  "kernelspec": {
   "display_name": "py36default",
   "language": "python",
   "name": "py36default"
  },
  "language_info": {
   "codemirror_mode": {
    "name": "ipython",
    "version": 3
   },
   "file_extension": ".py",
   "mimetype": "text/x-python",
   "name": "python",
   "nbconvert_exporter": "python",
   "pygments_lexer": "ipython3",
   "version": "3.6.0"
  }
 },
 "nbformat": 4,
 "nbformat_minor": 1
}
