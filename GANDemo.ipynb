{
 "cells": [
  {
   "cell_type": "code",
   "execution_count": 1,
   "metadata": {},
   "outputs": [
    {
     "name": "stderr",
     "output_type": "stream",
     "text": [
      "Using TensorFlow backend.\n"
     ]
    }
   ],
   "source": [
    "from keras.datasets import mnist\n",
    "(x_train, y_train), (x_test, y_test) = mnist.load_data()"
   ]
  },
  {
   "cell_type": "code",
   "execution_count": 2,
   "metadata": {},
   "outputs": [
    {
     "data": {
      "text/plain": [
       "(60000, 28, 28)"
      ]
     },
     "execution_count": 2,
     "metadata": {},
     "output_type": "execute_result"
    }
   ],
   "source": [
    "x_train.shape"
   ]
  },
  {
   "cell_type": "code",
   "execution_count": 3,
   "metadata": {},
   "outputs": [],
   "source": [
    "x_train_shaped = (x_train.reshape(60000, 784).astype(float) - 127.5) / 127.5"
   ]
  },
  {
   "cell_type": "markdown",
   "metadata": {},
   "source": [
    "## 創造一下 鑑賞家"
   ]
  },
  {
   "cell_type": "code",
   "execution_count": 4,
   "metadata": {},
   "outputs": [
    {
     "name": "stdout",
     "output_type": "stream",
     "text": [
      "_________________________________________________________________\n",
      "Layer (type)                 Output Shape              Param #   \n",
      "=================================================================\n",
      "dense_1 (Dense)              (None, 512)               401920    \n",
      "_________________________________________________________________\n",
      "dropout_1 (Dropout)          (None, 512)               0         \n",
      "_________________________________________________________________\n",
      "dense_2 (Dense)              (None, 256)               131328    \n",
      "_________________________________________________________________\n",
      "dropout_2 (Dropout)          (None, 256)               0         \n",
      "_________________________________________________________________\n",
      "dense_3 (Dense)              (None, 128)               32896     \n",
      "_________________________________________________________________\n",
      "dropout_3 (Dropout)          (None, 128)               0         \n",
      "_________________________________________________________________\n",
      "dense_4 (Dense)              (None, 1)                 129       \n",
      "=================================================================\n",
      "Total params: 566,273\n",
      "Trainable params: 566,273\n",
      "Non-trainable params: 0\n",
      "_________________________________________________________________\n"
     ]
    }
   ],
   "source": [
    "from keras.models import Sequential\n",
    "from keras.layers import Dense, Dropout\n",
    "discriminator = Sequential()\n",
    "discriminator.add(Dense(units = 512, input_dim = 784, activation = \"relu\", kernel_initializer=\"random_normal\"))\n",
    "discriminator.add(Dropout(0.25))\n",
    "discriminator.add(Dense(units = 256, activation = 'relu', kernel_initializer = 'random_normal'))\n",
    "discriminator.add(Dropout(0.25))\n",
    "discriminator.add(Dense(units = 128, activation = 'relu', kernel_initializer = 'random_normal'))\n",
    "discriminator.add(Dropout(0.25))\n",
    "discriminator.add(Dense(units = 1, activation = 'sigmoid', kernel_initializer = 'random_normal'))\n",
    "\n",
    "discriminator.compile(loss = 'binary_crossentropy', optimizer = 'adam')\n",
    "discriminator.summary()"
   ]
  },
  {
   "cell_type": "markdown",
   "metadata": {},
   "source": [
    "## 創造一下 偽作者"
   ]
  },
  {
   "cell_type": "code",
   "execution_count": 5,
   "metadata": {},
   "outputs": [
    {
     "name": "stdout",
     "output_type": "stream",
     "text": [
      "_________________________________________________________________\n",
      "Layer (type)                 Output Shape              Param #   \n",
      "=================================================================\n",
      "dense_5 (Dense)              (None, 256)               25856     \n",
      "_________________________________________________________________\n",
      "dropout_4 (Dropout)          (None, 256)               0         \n",
      "_________________________________________________________________\n",
      "dense_6 (Dense)              (None, 512)               131584    \n",
      "_________________________________________________________________\n",
      "dropout_5 (Dropout)          (None, 512)               0         \n",
      "_________________________________________________________________\n",
      "dense_7 (Dense)              (None, 784)               402192    \n",
      "=================================================================\n",
      "Total params: 559,632\n",
      "Trainable params: 559,632\n",
      "Non-trainable params: 0\n",
      "_________________________________________________________________\n"
     ]
    }
   ],
   "source": [
    "random_dim = 100\n",
    "generator = Sequential()\n",
    "generator.add(Dense(units = 256, input_dim = 100, activation = \"relu\", kernel_initializer=\"random_normal\"))\n",
    "generator.add(Dropout(0.25))\n",
    "generator.add(Dense(units = 512, activation = 'relu', kernel_initializer = 'random_normal'))\n",
    "generator.add(Dropout(0.25))\n",
    "# tanh-> -1~1\n",
    "generator.add(Dense(units = 784, activation = 'tanh', kernel_initializer = 'random_normal'))\n",
    "\n",
    "generator.compile(loss = 'binary_crossentropy', optimizer = 'adam')\n",
    "generator.summary()"
   ]
  },
  {
   "cell_type": "markdown",
   "metadata": {},
   "source": [
    "## 合併 -> 把真實秀給偽作者"
   ]
  },
  {
   "cell_type": "code",
   "execution_count": 6,
   "metadata": {},
   "outputs": [
    {
     "name": "stdout",
     "output_type": "stream",
     "text": [
      "_________________________________________________________________\n",
      "Layer (type)                 Output Shape              Param #   \n",
      "=================================================================\n",
      "input_1 (InputLayer)         (None, 100)               0         \n",
      "_________________________________________________________________\n",
      "sequential_2 (Sequential)    (None, 784)               559632    \n",
      "_________________________________________________________________\n",
      "sequential_1 (Sequential)    (None, 1)                 566273    \n",
      "=================================================================\n",
      "Total params: 1,125,905\n",
      "Trainable params: 559,632\n",
      "Non-trainable params: 566,273\n",
      "_________________________________________________________________\n"
     ]
    }
   ],
   "source": [
    "from keras.models import Model\n",
    "from keras.layers import Input\n",
    "discriminator.trainable = False\n",
    "gan_input = Input(shape=(random_dim,))\n",
    "x = generator(gan_input)\n",
    "gan_output = discriminator(x)\n",
    "gan = Model(inputs = gan_input, outputs = gan_output)\n",
    "gan.compile(loss = 'binary_crossentropy', optimizer = 'adam')\n",
    "gan.summary()"
   ]
  },
  {
   "cell_type": "code",
   "execution_count": 33,
   "metadata": {},
   "outputs": [
    {
     "name": "stdout",
     "output_type": "stream",
     "text": [
      "Epoch 0\n",
      "Discriminator Loss 0.5370586514472961\n",
      "Generator Loss 1.2532203\n",
      "Epoch 1\n",
      "Discriminator Loss 0.5102740526199341\n",
      "Generator Loss 1.5060271\n",
      "Epoch 2\n",
      "Discriminator Loss 0.4906493127346039\n",
      "Generator Loss 1.3014059\n",
      "Epoch 3\n",
      "Discriminator Loss 0.5685809850692749\n",
      "Generator Loss 1.0712842\n",
      "Epoch 4\n",
      "Discriminator Loss 0.5498601198196411\n",
      "Generator Loss 1.5174344\n",
      "Epoch 5\n",
      "Discriminator Loss 0.5602489709854126\n",
      "Generator Loss 1.2906756\n",
      "Epoch 6\n",
      "Discriminator Loss 0.5370701551437378\n",
      "Generator Loss 1.3492837\n",
      "Epoch 7\n",
      "Discriminator Loss 0.5636795163154602\n",
      "Generator Loss 1.1610724\n",
      "Epoch 8\n",
      "Discriminator Loss 0.5234990119934082\n",
      "Generator Loss 1.2226907\n",
      "Epoch 9\n",
      "Discriminator Loss 0.518490195274353\n",
      "Generator Loss 1.3417716\n"
     ]
    }
   ],
   "source": [
    "import numpy as np\n",
    "epochs = 10\n",
    "batch = 200\n",
    "for e in range(0, epochs):\n",
    "    for b in range(0, 300):\n",
    "        # Step0. 100 fake\n",
    "        noise = np.random.normal(0, 1, (batch, random_dim))\n",
    "        genimg = generator.predict(noise)\n",
    "\n",
    "        # Step1. Train Discriminator\n",
    "        idx = np.random.randint(0, 60000, batch)\n",
    "        img = x_train_shaped[idx]\n",
    "        discriminator.trainable = True\n",
    "        valid = np.ones( (batch, 1) )\n",
    "\n",
    "        fake = np.zeros( (batch, 1) )\n",
    "        valid_loss = discriminator.train_on_batch(img, valid)\n",
    "        fake_loss = discriminator.train_on_batch(genimg, fake)\n",
    "        d_loss = (valid_loss + fake_loss) / 2\n",
    "        # Step2. Train Generator\n",
    "        noise = np.random.normal(0, 1, (batch, random_dim))\n",
    "        discriminator.trainable = False\n",
    "        g_loss = gan.train_on_batch(noise, valid)\n",
    "    print(\"Epoch\", e)\n",
    "    print(\"Discriminator Loss\", d_loss)\n",
    "    print(\"Generator Loss\", g_loss)\n"
   ]
  },
  {
   "cell_type": "code",
   "execution_count": 46,
   "metadata": {},
   "outputs": [
    {
     "data": {
      "text/plain": [
       "<matplotlib.image.AxesImage at 0x138be1208>"
      ]
     },
     "execution_count": 46,
     "metadata": {},
     "output_type": "execute_result"
    },
    {
     "data": {
      "image/png": "[encoded data removed]",
      "text/plain": [
       "<matplotlib.figure.Figure at 0x138a780b8>"
      ]
     },
     "metadata": {},
     "output_type": "display_data"
    }
   ],
   "source": [
    "import matplotlib.pyplot as plt\n",
    "%matplotlib inline\n",
    "noise = np.random.normal(0, 1, (5, random_dim))\n",
    "genimg = generator.predict(noise)\n",
    "# -1~1 -> 0~1\n",
    "gen_img = 0.5 * genimg + 0.5 \n",
    "gen_img = gen_img.reshape(5, 28, 28)\n",
    "plt.imshow(gen_img[0], cmap='gray')"
   ]
  },
  {
   "cell_type": "code",
   "execution_count": null,
   "metadata": {},
   "outputs": [],
   "source": []
  }
 ],
 "metadata": {
  "kernelspec": {
   "display_name": "py36default",
   "language": "python",
   "name": "py36default"
  },
  "language_info": {
   "codemirror_mode": {
    "name": "ipython",
    "version": 3
   },
   "file_extension": ".py",
   "mimetype": "text/x-python",
   "name": "python",
   "nbconvert_exporter": "python",
   "pygments_lexer": "ipython3",
   "version": "3.6.0"
  }
 },
 "nbformat": 4,
 "nbformat_minor": 2
}
